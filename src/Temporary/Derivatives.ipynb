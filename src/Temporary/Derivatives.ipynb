{
 "cells": [
  {
   "cell_type": "code",
   "execution_count": 11,
   "metadata": {},
   "outputs": [
    {
     "data": {
      "text/latex": [
       "\\begin{equation}\n",
       "\\frac{ - \\left( \\left( K\\left( \\Psi \\right) \\right)^{p} w\\_i + K{_0}^{p} \\left( 1 - w\\_i \\right) \\right)^{\\frac{1}{p}}}{ {\\Delta}Z} + \\left( K\\left( \\Psi \\right) \\right)^{-1 + p} \\left( \\left( K\\left( \\Psi \\right) \\right)^{p} w\\_i + K{_0}^{p} \\left( 1 - w\\_i \\right) \\right)^{-1 + \\frac{1}{p}} w\\_i \\left( \\frac{\\Psi{_0} - \\Psi}{ {\\Delta}Z} + \\cos\\left( \\alpha \\right) \\right) \\frac{dK(\\Psi)}{d\\Psi}\n",
       "\\end{equation}\n"
      ],
      "text/plain": [
       "(-((wᵢ*(K(Ψ)^p) + (K₀^p)*(1 - wᵢ))^(1 / p))) / ΔZ + wᵢ*((Ψ₀ - Ψ) / ΔZ + cos(α))*((wᵢ*(K(Ψ)^p) + (K₀^p)*(1 - wᵢ))^(1 / p - 1))*(K(Ψ)^(p - 1))*Differential(Ψ)(K(Ψ))"
      ]
     },
     "metadata": {},
     "output_type": "display_data"
    }
   ],
   "source": [
    "using Symbolics, Latexify\n",
    "@variables Ψ, Ψ₀, K₀, p, wᵢ , K, K₀, ΔZ, α, K(Ψ)\n",
    "\n",
    "D = Symbolics.Differential(Ψ)\n",
    "\n",
    "Q = -( (wᵢ * (K)^p + (1-wᵢ) *(K₀)^p) ^(1/p)) * ((Ψ - Ψ₀) / ΔZ - cos(α))    \n",
    "\n",
    "\n",
    "D_Q = Symbolics.expand_derivatives(D(Q))\n"
   ]
  },
  {
   "cell_type": "code",
   "execution_count": 14,
   "metadata": {},
   "outputs": [
    {
     "data": {
      "text/latex": [
       "\\begin{equation}\n",
       "\\frac{ - \\left( \\left( K\\left( \\Psi \\right) \\right)^{p} w\\_i + K{_0}^{p} \\left( 1 - w\\_i \\right) \\right)^{\\frac{1}{p}} + \\left( K\\left( \\Psi \\right) \\right)^{-1 + p} \\left( \\left( K\\left( \\Psi \\right) \\right)^{p} w\\_i + K{_0}^{p} \\left( 1 - w\\_i \\right) \\right)^{\\frac{1 - p}{p}} w\\_i \\Psi{_0} \\frac{dK(\\Psi)}{d\\Psi} - \\left( K\\left( \\Psi \\right) \\right)^{-1 + p} \\left( \\left( K\\left( \\Psi \\right) \\right)^{p} w\\_i + K{_0}^{p} \\left( 1 - w\\_i \\right) \\right)^{\\frac{1 - p}{p}} w\\_i \\Psi \\frac{dK(\\Psi)}{d\\Psi} + \\left( K\\left( \\Psi \\right) \\right)^{-1 + p} \\left( \\left( K\\left( \\Psi \\right) \\right)^{p} w\\_i + K{_0}^{p} \\left( 1 - w\\_i \\right) \\right)^{\\frac{1 - p}{p}} w\\_i {\\Delta}Z \\cos\\left( \\alpha \\right) \\frac{dK(\\Psi)}{d\\Psi}}{ {\\Delta}Z}\n",
       "\\end{equation}\n"
      ],
      "text/plain": [
       "(wᵢ*Ψ₀*((wᵢ*(K(Ψ)^p) + (K₀^p)*(1 - wᵢ))^((1 - p) / p))*(K(Ψ)^(p - 1))*Differential(Ψ)(K(Ψ)) + wᵢ*ΔZ*((wᵢ*(K(Ψ)^p) + (K₀^p)*(1 - wᵢ))^((1 - p) / p))*(K(Ψ)^(p - 1))*cos(α)*Differential(Ψ)(K(Ψ)) - ((wᵢ*(K(Ψ)^p) + (K₀^p)*(1 - wᵢ))^(1 / p)) - wᵢ*Ψ*((wᵢ*(K(Ψ)^p) + (K₀^p)*(1 - wᵢ))^((1 - p) / p))*(K(Ψ)^(p - 1))*Differential(Ψ)(K(Ψ))) / ΔZ"
      ]
     },
     "metadata": {},
     "output_type": "display_data"
    }
   ],
   "source": [
    "D_Q2 = Symbolics.simplify(D_Q)"
   ]
  }
 ],
 "metadata": {
  "kernelspec": {
   "display_name": "Julia 1.7.1",
   "language": "julia",
   "name": "julia-1.7"
  },
  "language_info": {
   "file_extension": ".jl",
   "mimetype": "application/julia",
   "name": "julia",
   "version": "1.7.1"
  },
  "orig_nbformat": 4
 },
 "nbformat": 4,
 "nbformat_minor": 2
}
